{
 "cells": [
  {
   "cell_type": "markdown",
   "id": "407a3535-7639-4474-88c5-19018d78c550",
   "metadata": {},
   "source": [
    "Face-tracing algorithm\n",
    "=========================\n",
    "\n",
    "Problem: given a set of lines, identify all closed regions (subshapes)."
   ]
  },
  {
   "cell_type": "code",
   "execution_count": 46,
   "id": "abcdd76b-f653-47b4-9465-6dd2631a8c24",
   "metadata": {},
   "outputs": [],
   "source": [
    "%matplotlib inline\n",
    "import numpy as np\n",
    "import matplotlib.pyplot as plt"
   ]
  },
  {
   "cell_type": "markdown",
   "id": "186cdd4a-6030-4703-9b39-691e2fef87d0",
   "metadata": {},
   "source": [
    "Loads our helper module built for this exercise"
   ]
  },
  {
   "cell_type": "code",
   "execution_count": 7,
   "id": "30d69da2-9c2b-43ea-92f0-5e2d3c8f648f",
   "metadata": {},
   "outputs": [],
   "source": [
    "import hestus\n",
    "from importlib import reload"
   ]
  },
  {
   "cell_type": "code",
   "execution_count": 118,
   "id": "fae0cfa2-b742-4c83-b7ef-cbf76c22ae4f",
   "metadata": {},
   "outputs": [
    {
     "data": {
      "text/plain": [
       "<module 'hestus' from '/Users/nemmen/Library/CloudStorage/Dropbox/codes/jupyter/projects/hestus-problem/hestus.py'>"
      ]
     },
     "execution_count": 118,
     "metadata": {},
     "output_type": "execute_result"
    }
   ],
   "source": [
    "reload(hestus)"
   ]
  },
  {
   "cell_type": "code",
   "execution_count": 14,
   "id": "0cb77d79-9103-49ca-ad63-39978e364f5c",
   "metadata": {},
   "outputs": [],
   "source": [
    "import networkx as nx"
   ]
  },
  {
   "cell_type": "markdown",
   "id": "ebcef0fc-4a4c-4ddd-8470-a03a72b33ba7",
   "metadata": {},
   "source": [
    "## Trial shapes"
   ]
  },
  {
   "cell_type": "code",
   "execution_count": 4,
   "id": "e4d37208-b01e-4590-9bcd-743523cb06bc",
   "metadata": {},
   "outputs": [],
   "source": [
    "square = (\n",
    "    ((1, 1), (1, 2)),\n",
    "    ((1, 2), (2, 2)),\n",
    "    ((2, 2), (2, 1)),\n",
    "    ((2, 1), (1, 1)),\n",
    ")"
   ]
  },
  {
   "cell_type": "code",
   "execution_count": 3,
   "id": "ad8c32aa-ead6-4cf1-8f2d-f892da90dcac",
   "metadata": {},
   "outputs": [],
   "source": [
    "hourglass=( ((1, 1), (1, 2)),\n",
    "((1, 2), (2, 1)),\n",
    "((2, 1), (2, 2)),\n",
    "((2, 2), (1, 1)), )"
   ]
  },
  {
   "cell_type": "code",
   "execution_count": 5,
   "id": "fcde386d-60e7-47b2-b36a-03d94c2ce38d",
   "metadata": {},
   "outputs": [],
   "source": [
    "window= ( ((1, 1), (1, 2)),\n",
    "((1, 2), (2, 2)),\n",
    "((2, 2), (2, 1)),\n",
    "((2, 1), (1, 1)),\n",
    "((1.5, 1), (1.5, 2)),\n",
    "((1, 1.5), (2, 1.5)), )"
   ]
  },
  {
   "cell_type": "code",
   "execution_count": 119,
   "id": "2727fd2f-5d62-4047-9b34-04334dc4fac7",
   "metadata": {},
   "outputs": [
    {
     "data": {
      "image/png": "[encoded data removed]",
      "text/plain": [
       "<Figure size 640x480 with 1 Axes>"
      ]
     },
     "metadata": {},
     "output_type": "display_data"
    }
   ],
   "source": [
    "hestus.plot(window)"
   ]
  },
  {
   "cell_type": "markdown",
   "id": "f920cfbe-4efc-4bea-bc41-88c337fa70dd",
   "metadata": {},
   "source": [
    "## Playing with graphs"
   ]
  },
  {
   "cell_type": "markdown",
   "id": "d446d107-0883-48e2-9431-7fae966579fc",
   "metadata": {},
   "source": [
    "create an undirected graph and load the edges"
   ]
  },
  {
   "cell_type": "code",
   "execution_count": null,
   "id": "833dc69d-4741-482c-bc4f-6ea86cb0ead2",
   "metadata": {},
   "outputs": [],
   "source": [
    "G = nx.Graph()\n",
    "G.add_edges_from(window)"
   ]
  },
  {
   "cell_type": "markdown",
   "id": "d25a54c9-68dd-4f6a-a765-56532d6d03f4",
   "metadata": {},
   "source": [
    "some basic operations"
   ]
  },
  {
   "cell_type": "code",
   "execution_count": null,
   "id": "386988f5-1d85-406b-b697-72d5e4f7e8e7",
   "metadata": {},
   "outputs": [
    {
     "name": "stdout",
     "output_type": "stream",
     "text": [
      "|V|=8, |E|=6\n"
     ]
    }
   ],
   "source": [
    "print(f\"|V|={G.number_of_nodes()}, |E|={G.number_of_edges()}\")"
   ]
  },
  {
   "cell_type": "code",
   "execution_count": 20,
   "id": "cd6ce826-7401-4ad2-8cf3-d0918ed3ee40",
   "metadata": {},
   "outputs": [
    {
     "name": "stdout",
     "output_type": "stream",
     "text": [
      "degree of (1,1): 2\n",
      "connected? False\n",
      "nodes: [(1, 1), (1, 2), (2, 2), (2, 1), (1.5, 1), (1.5, 2), (1, 1.5), (2, 1.5)]\n",
      "edges: [((1, 1), (1, 2)), ((1, 1), (2, 1)), ((1, 2), (2, 2)), ((2, 2), (2, 1)), ((1.5, 1), (1.5, 2)), ((1, 1.5), (2, 1.5))]\n"
     ]
    }
   ],
   "source": [
    "print(\"nodes:\", G.nodes())\n",
    "print(\"edges:\", G.edges())"
   ]
  },
  {
   "cell_type": "markdown",
   "id": "80b75f57-0bd2-412c-945e-faecab298aa3",
   "metadata": {},
   "source": [
    "### Basic operations on a node"
   ]
  },
  {
   "cell_type": "code",
   "execution_count": null,
   "id": "cc2c4f73-672c-4e7f-b59e-1fec618c900e",
   "metadata": {},
   "outputs": [],
   "source": [
    "print(\"degree of (1,1):\", G.degree((1,1)))          "
   ]
  },
  {
   "cell_type": "markdown",
   "id": "464ecac7-e13e-44b6-88e6-26a601d469fd",
   "metadata": {},
   "source": [
    "Dict of neighbors of a node"
   ]
  },
  {
   "cell_type": "code",
   "execution_count": 24,
   "id": "bc862f01-9d56-458c-93e1-9c4094711a89",
   "metadata": {},
   "outputs": [
    {
     "data": {
      "text/plain": [
       "AtlasView({(1, 2): {}, (2, 1): {}})"
      ]
     },
     "execution_count": 24,
     "metadata": {},
     "output_type": "execute_result"
    }
   ],
   "source": [
    "G.adj[(1,1)]"
   ]
  },
  {
   "cell_type": "markdown",
   "id": "30aaaaa0-5e8b-4656-8559-e5ac0c824cf7",
   "metadata": {},
   "source": [
    "Edges connected to a given node"
   ]
  },
  {
   "cell_type": "code",
   "execution_count": 27,
   "id": "14b5e91d-64bb-4f38-9900-de97951469f1",
   "metadata": {},
   "outputs": [
    {
     "data": {
      "text/plain": [
       "EdgeDataView([((1, 1), (1, 2)), ((1, 1), (2, 1))])"
      ]
     },
     "execution_count": 27,
     "metadata": {},
     "output_type": "execute_result"
    }
   ],
   "source": [
    "G.edges((1,1))"
   ]
  },
  {
   "cell_type": "markdown",
   "id": "ce7871b8-c153-47a1-836a-522eb1f77e21",
   "metadata": {},
   "source": [
    "### Simple cycle detection"
   ]
  },
  {
   "cell_type": "code",
   "execution_count": 32,
   "id": "93e5a373-b6b5-4bff-9d3f-7a2d5a7941c8",
   "metadata": {},
   "outputs": [],
   "source": [
    "cycles=nx.cycle_basis(G)"
   ]
  },
  {
   "cell_type": "code",
   "execution_count": 33,
   "id": "e8e204b0-2688-4bb5-b9c8-8be357edb5d1",
   "metadata": {},
   "outputs": [
    {
     "name": "stdout",
     "output_type": "stream",
     "text": [
      "[[(2, 2), (1, 2), (1, 1), (2, 1)]]\n"
     ]
    }
   ],
   "source": [
    "print(cycles)"
   ]
  },
  {
   "cell_type": "code",
   "execution_count": 31,
   "id": "55e4f105-2959-41a6-92e2-d268a297a88d",
   "metadata": {},
   "outputs": [
    {
     "name": "stdout",
     "output_type": "stream",
     "text": [
      "contains cycle? True\n"
     ]
    }
   ],
   "source": [
    "print(\"contains cycle?\", bool(nx.cycle_basis(G)))"
   ]
  },
  {
   "cell_type": "markdown",
   "id": "78d7bb7c-c067-48d7-b460-4e48058c16bc",
   "metadata": {},
   "source": [
    "## Algorithm outline\n",
    "\n",
    "Our eyes immediately realize the intersections between lines and the geometrical \"subshapes\" they form, but the computer has no idea about them. We need to use geometry to teach the computer to identify these shapes. There are three basic steps.\n",
    "\n",
    "1. Find intersections between lines✅\n",
    "2. Establish new edges in addition to those of the original shape\n",
    "3. Identify closed regions\n",
    "\n",
    "Below I will break down steps 1 to 3."
   ]
  },
  {
   "cell_type": "markdown",
   "id": "82789ded-911b-4f6c-8944-ded11dc5690d",
   "metadata": {},
   "source": [
    "## (1) Find intersections"
   ]
  },
  {
   "cell_type": "markdown",
   "id": "99a7653f-614e-4c9a-9dfd-1cc39fb3143e",
   "metadata": {},
   "source": [
    "### Find intersecting point between two lines"
   ]
  },
  {
   "cell_type": "code",
   "execution_count": 90,
   "id": "2c48e650-c590-4c54-bcf9-a674363c432a",
   "metadata": {},
   "outputs": [],
   "source": [
    "def find_intersection(l1, l2):\n",
    "    \"\"\"\n",
    "    Return (xi, yi) where (xi, yi) is the intersection of the\n",
    "    infinite lines through p1-p2 and p3-p4.\n",
    "    Input: each point is a pair (x, y).\n",
    "    \"\"\"\n",
    "    (x1, y1), (x2, y2) = l1\n",
    "    (x3, y3), (x4, y4) = l2\n",
    "\n",
    "    denom = (x1 - x2)*(y3 - y4) - (y1 - y2)*(x3 - x4)\n",
    "    if denom == 0:            # parallel or coincident\n",
    "        return None, None\n",
    "\n",
    "    c1 = x1*y2 - y1*x2\n",
    "    c2 = x3*y4 - y3*x4\n",
    "\n",
    "    xi = (c1*(x3 - x4) - (x1 - x2)*c2) / denom\n",
    "    yi = (c1*(y3 - y4) - (y1 - y2)*c2) / denom\n",
    "\n",
    "    # parameters for the two segments\n",
    "    t = ((x3 - x1)*(y3 - y4) - (y3 - y1)*(x3 - x4)) / denom\n",
    "    u = ((x3 - x1)*(y1 - y2) - (y3 - y1)*(x1 - x2)) / denom\n",
    "\n",
    "    return (xi, yi)"
   ]
  },
  {
   "cell_type": "code",
   "execution_count": 80,
   "id": "27535eaa-885c-4f2c-a72e-f9bf8a412453",
   "metadata": {},
   "outputs": [
    {
     "data": {
      "text/plain": [
       "(None, None)"
      ]
     },
     "execution_count": 80,
     "metadata": {},
     "output_type": "execute_result"
    }
   ],
   "source": [
    "find_intersection(((1, 1), (1, 2)),((1.5, 1), (1.5, 2)))"
   ]
  },
  {
   "cell_type": "code",
   "execution_count": 82,
   "id": "6a34b8fd-3e8e-4c02-93d4-461db6f243b1",
   "metadata": {},
   "outputs": [
    {
     "data": {
      "text/plain": [
       "(1.0, 1.5)"
      ]
     },
     "execution_count": 82,
     "metadata": {},
     "output_type": "execute_result"
    }
   ],
   "source": [
    "find_intersection(((1, 1), (1, 2)),((1, 1.5), (2, 1.5)))"
   ]
  },
  {
   "cell_type": "markdown",
   "id": "3df9ccde-f07d-44f4-aac6-fb3019d911bd",
   "metadata": {},
   "source": [
    "### Find all intersections in graph"
   ]
  },
  {
   "cell_type": "code",
   "execution_count": 96,
   "id": "e9085a8d-6f02-4d14-b7cd-612170793fea",
   "metadata": {},
   "outputs": [],
   "source": [
    "intersections=set()\n",
    "\n",
    "for e in G.edges():\n",
    "    for f in G.edges():\n",
    "        # avoid the same vertex\n",
    "        if e!=f:\n",
    "            inter=find_intersection(e,f)\n",
    "            if None not in inter:\n",
    "                intersections.add(inter)"
   ]
  },
  {
   "cell_type": "code",
   "execution_count": 97,
   "id": "1f51b9a1-1394-4395-9e51-35df6c4e17d9",
   "metadata": {},
   "outputs": [
    {
     "data": {
      "text/plain": [
       "{(1.0, 1.0),\n",
       " (1.0, 1.5),\n",
       " (1.0, 2.0),\n",
       " (1.5, 1.0),\n",
       " (1.5, 1.5),\n",
       " (1.5, 2.0),\n",
       " (2.0, 1.0),\n",
       " (2.0, 1.5),\n",
       " (2.0, 2.0)}"
      ]
     },
     "execution_count": 97,
     "metadata": {},
     "output_type": "execute_result"
    }
   ],
   "source": [
    "intersections"
   ]
  },
  {
   "cell_type": "code",
   "execution_count": 98,
   "id": "50741c69-5a12-4e10-9a2b-9a4c0a311220",
   "metadata": {},
   "outputs": [
    {
     "data": {
      "text/plain": [
       "9"
      ]
     },
     "execution_count": 98,
     "metadata": {},
     "output_type": "execute_result"
    }
   ],
   "source": [
    "len(intersections)"
   ]
  },
  {
   "cell_type": "markdown",
   "id": "ee99f9ee-f653-4e26-93fc-d653f1cb19db",
   "metadata": {},
   "source": [
    "## Establish new segments"
   ]
  },
  {
   "cell_type": "markdown",
   "id": "b462784f-a4e1-494d-8ba4-f3be11eee9db",
   "metadata": {},
   "source": [
    "Fully connected graph, with all possible connections between nodes"
   ]
  },
  {
   "cell_type": "code",
   "execution_count": 99,
   "id": "855514de-2124-4bb8-a6a8-e380cb96d5dd",
   "metadata": {},
   "outputs": [],
   "source": [
    "FG = nx.complete_graph(intersections)   # undirected by default"
   ]
  },
  {
   "cell_type": "code",
   "execution_count": 101,
   "id": "ea869932-90d4-4f33-9331-ebb4da36deb1",
   "metadata": {},
   "outputs": [
    {
     "data": {
      "text/plain": [
       "36"
      ]
     },
     "execution_count": 101,
     "metadata": {},
     "output_type": "execute_result"
    }
   ],
   "source": [
    "FG.number_of_edges()"
   ]
  },
  {
   "cell_type": "code",
   "execution_count": 120,
   "id": "4969b8ae-9412-48a6-aa28-518e388a81e5",
   "metadata": {},
   "outputs": [
    {
     "data": {
      "image/png": "[encoded data removed]",
      "text/plain": [
       "<Figure size 600x600 with 1 Axes>"
      ]
     },
     "metadata": {},
     "output_type": "display_data"
    }
   ],
   "source": [
    "hestus.plot_graph(FG)"
   ]
  },
  {
   "cell_type": "markdown",
   "id": "af8f9d40-95ae-48f1-96d9-93c14f555cf2",
   "metadata": {},
   "source": [
    "### Test parallel lines finder\n",
    "\n",
    "Discard those that are not parallel to pre-existing lines"
   ]
  },
  {
   "cell_type": "code",
   "execution_count": 102,
   "id": "ac0f9478-3ec8-4d35-9ed5-1b1a1a5dbc33",
   "metadata": {},
   "outputs": [
    {
     "data": {
      "text/plain": [
       "EdgeView([((1.0, 2.0), (1.5, 1.0)), ((1.0, 2.0), (2.0, 1.0)), ((1.0, 2.0), (2.0, 1.5)), ((1.0, 2.0), (1.5, 1.5)), ((1.0, 2.0), (1.0, 1.5)), ((1.0, 2.0), (1.0, 1.0)), ((1.0, 2.0), (2.0, 2.0)), ((1.0, 2.0), (1.5, 2.0)), ((1.5, 1.0), (2.0, 1.0)), ((1.5, 1.0), (2.0, 1.5)), ((1.5, 1.0), (1.5, 1.5)), ((1.5, 1.0), (1.0, 1.5)), ((1.5, 1.0), (1.0, 1.0)), ((1.5, 1.0), (2.0, 2.0)), ((1.5, 1.0), (1.5, 2.0)), ((2.0, 1.0), (2.0, 1.5)), ((2.0, 1.0), (1.5, 1.5)), ((2.0, 1.0), (1.0, 1.5)), ((2.0, 1.0), (1.0, 1.0)), ((2.0, 1.0), (2.0, 2.0)), ((2.0, 1.0), (1.5, 2.0)), ((2.0, 1.5), (1.5, 1.5)), ((2.0, 1.5), (1.0, 1.5)), ((2.0, 1.5), (1.0, 1.0)), ((2.0, 1.5), (2.0, 2.0)), ((2.0, 1.5), (1.5, 2.0)), ((1.5, 1.5), (1.0, 1.5)), ((1.5, 1.5), (1.0, 1.0)), ((1.5, 1.5), (2.0, 2.0)), ((1.5, 1.5), (1.5, 2.0)), ((1.0, 1.5), (1.0, 1.0)), ((1.0, 1.5), (2.0, 2.0)), ((1.0, 1.5), (1.5, 2.0)), ((1.0, 1.0), (2.0, 2.0)), ((1.0, 1.0), (1.5, 2.0)), ((2.0, 2.0), (1.5, 2.0))])"
      ]
     },
     "execution_count": 102,
     "metadata": {},
     "output_type": "execute_result"
    }
   ],
   "source": [
    "FG.edges()"
   ]
  },
  {
   "cell_type": "code",
   "execution_count": 106,
   "id": "80b71ac3-7f1b-4c59-bb48-433e7e4386ed",
   "metadata": {},
   "outputs": [],
   "source": [
    "from math import hypot\n",
    "\n",
    "def are_parallel(l1, l2, tol=1e-9):\n",
    "    \"\"\"\n",
    "    Return True if the (infinite) lines defined by the two point pairs are parallel.\n",
    "    \"\"\"\n",
    "    (x1, y1), (x2, y2) = l1\n",
    "    (x3, y3), (x4, y4) = l2\n",
    "\n",
    "    # Direction vectors\n",
    "    v1x, v1y = x2 - x1, y2 - y1\n",
    "    v2x, v2y = x4 - x3, y4 - y3\n",
    "\n",
    "    # Guard against zero-length lines\n",
    "    if v1x == v1y == 0 or v2x == v2y == 0:\n",
    "        raise ValueError(\"At least one line has zero length (two identical end-points).\")\n",
    "\n",
    "    # 2-D cross product\n",
    "    cross = v1x * v2y - v1y * v2x\n",
    "\n",
    "    # Scale tolerance with the largest direction-vector magnitude so that\n",
    "    # the test is invariant to coordinate scale.\n",
    "    scale = max(hypot(v1x, v1y), hypot(v2x, v2y))\n",
    "    return abs(cross) <= tol * scale"
   ]
  },
  {
   "cell_type": "code",
   "execution_count": 104,
   "id": "685b408b-38ad-49d1-91c2-f32309bf0dc5",
   "metadata": {},
   "outputs": [
    {
     "data": {
      "text/plain": [
       "True"
      ]
     },
     "execution_count": 104,
     "metadata": {},
     "output_type": "execute_result"
    }
   ],
   "source": [
    "are_parallel(((1, 1), (1, 2)),((1.5, 1), (1.5, 2)))"
   ]
  },
  {
   "cell_type": "code",
   "execution_count": 105,
   "id": "ed0e90c8-97ca-4bbd-a30f-f24c819e642e",
   "metadata": {},
   "outputs": [
    {
     "data": {
      "text/plain": [
       "False"
      ]
     },
     "execution_count": 105,
     "metadata": {},
     "output_type": "execute_result"
    }
   ],
   "source": [
    "are_parallel(((1, 1), (1, 2)),((1, 1.5), (2, 1.5)))"
   ]
  },
  {
   "cell_type": "markdown",
   "id": "c9902dd2-9738-4bb7-814c-2f160e000b25",
   "metadata": {},
   "source": [
    "### Discard all lines which are not parallel to existing ones"
   ]
  },
  {
   "cell_type": "markdown",
   "id": "79d6ecae-5b91-471c-91ea-02069e20bb47",
   "metadata": {},
   "source": [
    "Build a list of edges to delete"
   ]
  },
  {
   "cell_type": "code",
   "execution_count": 107,
   "id": "e3aa6ae5-8189-42c0-a972-acd087eb6330",
   "metadata": {},
   "outputs": [
    {
     "name": "stdout",
     "output_type": "stream",
     "text": [
      "((1.0, 2.0), (1.5, 1.0))\n",
      "((1.0, 2.0), (2.0, 1.0))\n",
      "((1.0, 2.0), (2.0, 1.5))\n",
      "((1.0, 2.0), (1.5, 1.5))\n",
      "((1.0, 2.0), (1.0, 1.5))\n",
      "((1.0, 2.0), (1.0, 1.0))\n",
      "((1.0, 2.0), (2.0, 2.0))\n",
      "((1.0, 2.0), (1.5, 2.0))\n",
      "((1.5, 1.0), (2.0, 1.0))\n",
      "((1.5, 1.0), (2.0, 1.5))\n",
      "((1.5, 1.0), (1.5, 1.5))\n",
      "((1.5, 1.0), (1.0, 1.5))\n",
      "((1.5, 1.0), (1.0, 1.0))\n",
      "((1.5, 1.0), (2.0, 2.0))\n",
      "((1.5, 1.0), (1.5, 2.0))\n",
      "((2.0, 1.0), (2.0, 1.5))\n",
      "((2.0, 1.0), (1.5, 1.5))\n",
      "((2.0, 1.0), (1.0, 1.5))\n",
      "((2.0, 1.0), (1.0, 1.0))\n",
      "((2.0, 1.0), (2.0, 2.0))\n",
      "((2.0, 1.0), (1.5, 2.0))\n",
      "((2.0, 1.5), (1.5, 1.5))\n",
      "((2.0, 1.5), (1.0, 1.5))\n",
      "((2.0, 1.5), (1.0, 1.0))\n",
      "((2.0, 1.5), (2.0, 2.0))\n",
      "((2.0, 1.5), (1.5, 2.0))\n",
      "((1.5, 1.5), (1.0, 1.5))\n",
      "((1.5, 1.5), (1.0, 1.0))\n",
      "((1.5, 1.5), (2.0, 2.0))\n",
      "((1.5, 1.5), (1.5, 2.0))\n",
      "((1.0, 1.5), (1.0, 1.0))\n",
      "((1.0, 1.5), (2.0, 2.0))\n",
      "((1.0, 1.5), (1.5, 2.0))\n",
      "((1.0, 1.0), (2.0, 2.0))\n",
      "((1.0, 1.0), (1.5, 2.0))\n",
      "((2.0, 2.0), (1.5, 2.0))\n"
     ]
    }
   ],
   "source": [
    "for e in FG.edges():\n",
    "    if not are_parallel(e, )"
   ]
  },
  {
   "cell_type": "code",
   "execution_count": null,
   "id": "a773622d-deda-4717-a0ab-7e217b7c397f",
   "metadata": {},
   "outputs": [],
   "source": []
  }
 ],
 "metadata": {
  "kernelspec": {
   "display_name": "Python 3 (ipykernel)",
   "language": "python",
   "name": "python3"
  },
  "language_info": {
   "codemirror_mode": {
    "name": "ipython",
    "version": 3
   },
   "file_extension": ".py",
   "mimetype": "text/x-python",
   "name": "python",
   "nbconvert_exporter": "python",
   "pygments_lexer": "ipython3",
   "version": "3.11.7"
  }
 },
 "nbformat": 4,
 "nbformat_minor": 5
}
