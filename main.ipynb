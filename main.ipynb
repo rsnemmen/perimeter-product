{
 "cells": [
  {
   "cell_type": "markdown",
   "id": "407a3535-7639-4474-88c5-19018d78c550",
   "metadata": {},
   "source": [
    "Identify subshapes algorithm\n",
    "===================================\n",
    "\n",
    "Problem: given a set of lines, identify all closed regions (subshapes) which added together, form the bigger shape."
   ]
  },
  {
   "cell_type": "code",
   "execution_count": 1,
   "id": "abcdd76b-f653-47b4-9465-6dd2631a8c24",
   "metadata": {},
   "outputs": [],
   "source": [
    "%matplotlib inline\n",
    "import numpy as np\n",
    "import matplotlib.pyplot as plt"
   ]
  },
  {
   "cell_type": "markdown",
   "id": "186cdd4a-6030-4703-9b39-691e2fef87d0",
   "metadata": {},
   "source": [
    "Loads our helper module built for this exercise"
   ]
  },
  {
   "cell_type": "code",
   "execution_count": 2,
   "id": "30d69da2-9c2b-43ea-92f0-5e2d3c8f648f",
   "metadata": {},
   "outputs": [],
   "source": [
    "import hestus\n",
    "from importlib import reload"
   ]
  },
  {
   "cell_type": "code",
   "execution_count": 3,
   "id": "0cb77d79-9103-49ca-ad63-39978e364f5c",
   "metadata": {},
   "outputs": [],
   "source": [
    "import networkx as nx\n",
    "import math"
   ]
  },
  {
   "cell_type": "markdown",
   "id": "ebcef0fc-4a4c-4ddd-8470-a03a72b33ba7",
   "metadata": {},
   "source": [
    "## Shapes available"
   ]
  },
  {
   "cell_type": "code",
   "execution_count": 4,
   "id": "e4d37208-b01e-4590-9bcd-743523cb06bc",
   "metadata": {},
   "outputs": [],
   "source": [
    "square = (\n",
    "    ((1, 1), (1, 2)),\n",
    "    ((1, 2), (2, 2)),\n",
    "    ((2, 2), (2, 1)),\n",
    "    ((2, 1), (1, 1)),\n",
    ")"
   ]
  },
  {
   "cell_type": "code",
   "execution_count": 5,
   "id": "ad8c32aa-ead6-4cf1-8f2d-f892da90dcac",
   "metadata": {},
   "outputs": [],
   "source": [
    "hourglass=( ((1, 1), (1, 2)),\n",
    "((1, 2), (2, 1)),\n",
    "((2, 1), (2, 2)),\n",
    "((2, 2), (1, 1)), )"
   ]
  },
  {
   "cell_type": "code",
   "execution_count": 6,
   "id": "fcde386d-60e7-47b2-b36a-03d94c2ce38d",
   "metadata": {},
   "outputs": [],
   "source": [
    "window= ( ((1, 1), (1, 2)),\n",
    "((1, 2), (2, 2)),\n",
    "((2, 2), (2, 1)),\n",
    "((2, 1), (1, 1)),\n",
    "((1.5, 1), (1.5, 2)),\n",
    "((1, 1.5), (2, 1.5)), )"
   ]
  },
  {
   "cell_type": "code",
   "execution_count": 7,
   "id": "6f1b8af7-2729-44ca-a062-df7b96fda7b2",
   "metadata": {},
   "outputs": [],
   "source": [
    "mystery=( ((1, 1), (1, 2)),\n",
    "((1, 2), (1.8, 2)),\n",
    "((1.8, 2), (1.8, 1)),\n",
    "((1.8, 1), (1, 1)),\n",
    "((1.2, 1), (1.2, 2)),\n",
    "((1.6, 1), (1.6, 2)),\n",
    "((1, 1.5), (1.6, 1.8)),\n",
    "((1, 1.3), (1.8, 1.7)),\n",
    "((1.2, 1.2), (1.8, 1.5)), )"
   ]
  },
  {
   "cell_type": "markdown",
   "id": "f1ebdb70-ad70-4190-93b4-3141f6ab0b48",
   "metadata": {},
   "source": [
    "## Input: specify here the desired shape"
   ]
  },
  {
   "cell_type": "code",
   "execution_count": 8,
   "id": "2727fd2f-5d62-4047-9b34-04334dc4fac7",
   "metadata": {},
   "outputs": [
    {
     "data": {
      "image/png": "[encoded data removed]",
      "text/plain": [
       "<Figure size 640x480 with 1 Axes>"
      ]
     },
     "metadata": {},
     "output_type": "display_data"
    }
   ],
   "source": [
    "shape=window # <<============================\n",
    "hestus.plot(shape)"
   ]
  },
  {
   "cell_type": "markdown",
   "id": "f920cfbe-4efc-4bea-bc41-88c337fa70dd",
   "metadata": {},
   "source": [
    "## Define graphs"
   ]
  },
  {
   "cell_type": "markdown",
   "id": "d446d107-0883-48e2-9431-7fae966579fc",
   "metadata": {},
   "source": [
    "create an undirected graph and load the edges"
   ]
  },
  {
   "cell_type": "code",
   "execution_count": 9,
   "id": "833dc69d-4741-482c-bc4f-6ea86cb0ead2",
   "metadata": {},
   "outputs": [],
   "source": [
    "G = nx.Graph()\n",
    "G.add_edges_from(shape)"
   ]
  },
  {
   "cell_type": "markdown",
   "id": "78d7bb7c-c067-48d7-b460-4e48058c16bc",
   "metadata": {},
   "source": [
    "## Algorithm outline\n",
    "\n",
    "Our eyes immediately realize the intersections between lines and the geometrical \"subshapes\" they form, but the computer has no idea about them. We need to use geometry to teach the computer to identify these shapes. There are three basic steps.\n",
    "\n",
    "1. Find intersections between lines✅\n",
    "2. Establish new edges in addition to those of the original shape✅\n",
    "3. Identify closed regions✅\n",
    "\n",
    "Below I will break down steps 1 to 3."
   ]
  },
  {
   "cell_type": "markdown",
   "id": "82789ded-911b-4f6c-8944-ded11dc5690d",
   "metadata": {},
   "source": [
    "## (1) Find intersections"
   ]
  },
  {
   "cell_type": "markdown",
   "id": "99a7653f-614e-4c9a-9dfd-1cc39fb3143e",
   "metadata": {},
   "source": [
    "### Find intersecting point between two lines"
   ]
  },
  {
   "cell_type": "code",
   "execution_count": 10,
   "id": "2c48e650-c590-4c54-bcf9-a674363c432a",
   "metadata": {},
   "outputs": [],
   "source": [
    "def find_intersection(l1, l2):\n",
    "    \"\"\"\n",
    "    Return (xi, yi) where (xi, yi) is the intersection of the\n",
    "    infinite lines through p1-p2 and p3-p4.\n",
    "    Input: each point is a pair (x, y).\n",
    "    \"\"\"\n",
    "    (x1, y1), (x2, y2) = l1\n",
    "    (x3, y3), (x4, y4) = l2\n",
    "\n",
    "    # we can get denom by equating the slopes a1=a2 (l1=a1*x+b1 etc) and doing some algebra\n",
    "    denom = (x1 - x2)*(y3 - y4) - (y1 - y2)*(x3 - x4)\n",
    "    # it would be nice to have some numerical tolerance below...\n",
    "    if denom == 0:            # parallel or coincident\n",
    "        return None, None\n",
    "\n",
    "    c1 = x1*y2 - y1*x2\n",
    "    c2 = x3*y4 - y3*x4\n",
    "\n",
    "    xi = (c1*(x3 - x4) - (x1 - x2)*c2) / denom\n",
    "    yi = (c1*(y3 - y4) - (y1 - y2)*c2) / denom\n",
    "\n",
    "    # parameters for the two segments\n",
    "    t = ((x3 - x1)*(y3 - y4) - (y3 - y1)*(x3 - x4)) / denom\n",
    "    u = ((x3 - x1)*(y1 - y2) - (y3 - y1)*(x1 - x2)) / denom\n",
    "\n",
    "    return (xi, yi)"
   ]
  },
  {
   "cell_type": "markdown",
   "id": "3df9ccde-f07d-44f4-aac6-fb3019d911bd",
   "metadata": {},
   "source": [
    "### Find all intersections in graph"
   ]
  },
  {
   "cell_type": "code",
   "execution_count": 11,
   "id": "e9085a8d-6f02-4d14-b7cd-612170793fea",
   "metadata": {},
   "outputs": [],
   "source": [
    "intersections=set()\n",
    "\n",
    "for e in G.edges():\n",
    "    for f in G.edges():\n",
    "        # avoid the same vertex\n",
    "        if e!=f:\n",
    "            inter=find_intersection(e,f)\n",
    "            if None not in inter:\n",
    "                intersections.add(inter)"
   ]
  },
  {
   "cell_type": "markdown",
   "id": "ee99f9ee-f653-4e26-93fc-d653f1cb19db",
   "metadata": {},
   "source": [
    "## (2) Establish new segments"
   ]
  },
  {
   "cell_type": "markdown",
   "id": "b462784f-a4e1-494d-8ba4-f3be11eee9db",
   "metadata": {},
   "source": [
    "Fully connected graph, with all possible connections between nodes"
   ]
  },
  {
   "cell_type": "code",
   "execution_count": 12,
   "id": "855514de-2124-4bb8-a6a8-e380cb96d5dd",
   "metadata": {},
   "outputs": [],
   "source": [
    "FG = nx.complete_graph(intersections)   # undirected by default"
   ]
  },
  {
   "cell_type": "markdown",
   "id": "af8f9d40-95ae-48f1-96d9-93c14f555cf2",
   "metadata": {},
   "source": [
    "### Test parallel lines finder\n",
    "\n",
    "Discard those that are not parallel to pre-existing lines"
   ]
  },
  {
   "cell_type": "code",
   "execution_count": 13,
   "id": "80b71ac3-7f1b-4c59-bb48-433e7e4386ed",
   "metadata": {},
   "outputs": [],
   "source": [
    "from math import hypot\n",
    "\n",
    "def are_parallel(l1, l2, tol=1e-9):\n",
    "    \"\"\"\n",
    "    Return True if the (infinite) lines defined by the two point pairs are parallel.\n",
    "    \"\"\"\n",
    "    (x1, y1), (x2, y2) = l1\n",
    "    (x3, y3), (x4, y4) = l2\n",
    "\n",
    "    # Direction vectors\n",
    "    v1x, v1y = x2 - x1, y2 - y1\n",
    "    v2x, v2y = x4 - x3, y4 - y3\n",
    "\n",
    "    # Guard against zero-length lines\n",
    "    if v1x == v1y == 0 or v2x == v2y == 0:\n",
    "        raise ValueError(\"At least one line has zero length (two identical end-points).\")\n",
    "\n",
    "    # 2-D cross product\n",
    "    cross = v1x * v2y - v1y * v2x\n",
    "\n",
    "    # Scale tolerance with the largest direction-vector magnitude so that\n",
    "    # the test is invariant to coordinate scale.\n",
    "    scale = max(hypot(v1x, v1y), hypot(v2x, v2y))\n",
    "    return abs(cross) <= tol * scale"
   ]
  },
  {
   "cell_type": "markdown",
   "id": "c9902dd2-9738-4bb7-814c-2f160e000b25",
   "metadata": {},
   "source": [
    "### Discard all lines which are not parallel to any existing ones"
   ]
  },
  {
   "cell_type": "markdown",
   "id": "79d6ecae-5b91-471c-91ea-02069e20bb47",
   "metadata": {},
   "source": [
    "Build a list of edges to delete"
   ]
  },
  {
   "cell_type": "code",
   "execution_count": 14,
   "id": "e3aa6ae5-8189-42c0-a972-acd087eb6330",
   "metadata": {},
   "outputs": [],
   "source": [
    "# set with connections between nodes\n",
    "to_delete=set()\n",
    "\n",
    "for fg in FG.edges():\n",
    "    # if the fg line under consideration is parallel to any pre-existing line, keep it with survive=True\n",
    "    survive=False\n",
    "    for g in G.edges():\n",
    "        if fg!=g:\n",
    "            if are_parallel(g, fg):\n",
    "                survive=True\n",
    "\n",
    "    if not survive:\n",
    "        to_delete.add(fg)"
   ]
  },
  {
   "cell_type": "markdown",
   "id": "333b3597-505e-45b3-aa0a-896e2a1c50cf",
   "metadata": {},
   "source": [
    "Delete spurious edges"
   ]
  },
  {
   "cell_type": "code",
   "execution_count": 15,
   "id": "fd48c1a0-53bc-46b4-b68f-4338c346174e",
   "metadata": {},
   "outputs": [],
   "source": [
    "FG.remove_edges_from(to_delete)"
   ]
  },
  {
   "cell_type": "markdown",
   "id": "2c54f37f-409d-46d6-b924-13cdf6fc8fba",
   "metadata": {},
   "source": [
    "### Issue: some edges cross more than one node"
   ]
  },
  {
   "cell_type": "markdown",
   "id": "f79e1062-3274-4bba-8c01-4516b9119dc3",
   "metadata": {},
   "source": [
    "Almost there. I need now to remove edges that cross over more than two nodes."
   ]
  },
  {
   "cell_type": "code",
   "execution_count": 16,
   "id": "110dd01a-e6e2-460b-a598-fde6e487e15e",
   "metadata": {},
   "outputs": [],
   "source": [
    "def is_on_segment(p, seg, *, eps=1e-9):\n",
    "    \"\"\"\n",
    "    True if point `p` lies on the **closed** segment `seg`.\n",
    "    Parameters\n",
    "    ----------\n",
    "    p : tuple \n",
    "    seg : ((x1, y1), (x2, y2)) tuple   – segment endpoints\n",
    "    eps     : tolerance for floating-point colinearity test\n",
    "    \"\"\"\n",
    "    px, py = p\n",
    "    (ax, ay), (bx, by) = seg\n",
    "    \n",
    "    # 1. Colinearity test   |(b-a) x (p-a)| == 0\n",
    "    cross = (bx - ax) * (py - ay) - (by - ay) * (px - ax)\n",
    "    if abs(cross) > eps:\n",
    "        return False\n",
    "\n",
    "    # 2. Projection test  0 ≤ (p-a)·(b-a) ≤ |b-a|²\n",
    "    dot = (px - ax) * (bx - ax) + (py - ay) * (by - ay)\n",
    "    if dot < 0:\n",
    "        return False\n",
    "\n",
    "    squared_len = (bx - ax) ** 2 + (by - ay) ** 2\n",
    "    if dot > squared_len:\n",
    "        return False\n",
    "\n",
    "    return True"
   ]
  },
  {
   "cell_type": "markdown",
   "id": "a11933f3-f01a-4bed-a43d-19d0f9e6c970",
   "metadata": {},
   "source": [
    "Keep only edges that cross only two nodes"
   ]
  },
  {
   "cell_type": "markdown",
   "id": "a85400ee-f57d-408c-b7de-0f7d5d3fa641",
   "metadata": {},
   "source": [
    "Build a list of edges to delete"
   ]
  },
  {
   "cell_type": "code",
   "execution_count": 17,
   "id": "d6f8759f-9abf-445f-9bac-6cd38da81380",
   "metadata": {},
   "outputs": [],
   "source": [
    "# set with connections between nodes\n",
    "to_delete=set()\n",
    "\n",
    "for edge in FG.edges():\n",
    "    # if the edge under consideration crosses more than two nodes, discard it \n",
    "    survive=True\n",
    "    for node in FG.nodes():\n",
    "        if node!=edge[0] and node!=edge[1]:\n",
    "            if is_on_segment(node,edge):\n",
    "                survive=False             \n",
    "\n",
    "    if not survive:\n",
    "        to_delete.add(edge)"
   ]
  },
  {
   "cell_type": "markdown",
   "id": "deb79d33-73b9-4009-805e-bccdd3a9be36",
   "metadata": {},
   "source": [
    "Delete spurious edges"
   ]
  },
  {
   "cell_type": "code",
   "execution_count": 18,
   "id": "069a5697-3742-4123-bba3-eb6c93f97ead",
   "metadata": {},
   "outputs": [],
   "source": [
    "FG.remove_edges_from(to_delete)"
   ]
  },
  {
   "cell_type": "markdown",
   "id": "a7236aad-0bee-4513-86a5-e2ddcbcc54e1",
   "metadata": {},
   "source": [
    "## (3) Identify closed regions"
   ]
  },
  {
   "cell_type": "markdown",
   "id": "ecfbb197-5c04-436a-b224-4374f8ee9611",
   "metadata": {},
   "source": [
    "Plots identified cycles"
   ]
  },
  {
   "cell_type": "code",
   "execution_count": 19,
   "id": "2151bdeb-c965-400d-917c-1730729bd224",
   "metadata": {},
   "outputs": [],
   "source": [
    "def plot_cycles(cycles, cols=4):\n",
    "    n = len(cycles)\n",
    "    rows = -(-n // cols)           # ceiling division\n",
    "    fig, axes = plt.subplots(rows, cols, figsize=(4*cols, 4*rows))\n",
    "    pos = {p: p for p in FG.nodes()}          # node → (x, y)\n",
    "\n",
    "    for ax, cycle in zip(axes.ravel(), cycles):\n",
    "        cycle_edges = list(zip(cycle, cycle[1:] + cycle[:1]))\n",
    "        nx.draw_networkx_edges(FG, pos, ax=ax, width=1, edge_color=\"#cccccc\", alpha=0.6)\n",
    "        nx.draw_networkx_nodes(FG, pos, ax=ax, node_size=30, node_color=\"#dddddd\", alpha=0.6)\n",
    "        nx.draw_networkx_edges(FG, pos, ax=ax, edgelist=cycle_edges, width=3, edge_color=\"tab:red\")\n",
    "        nx.draw_networkx_nodes(FG, pos, ax=ax, nodelist=cycle, node_size=80, node_color=\"tab:red\")\n",
    "        ax.set_aspect(\"equal\"); ax.set_axis_off()\n",
    "\n",
    "    plt.tight_layout()\n",
    "    plt.show()"
   ]
  },
  {
   "cell_type": "markdown",
   "id": "418a44f5-3d93-4125-9430-3ce29728040d",
   "metadata": {},
   "source": [
    "Computes cycles of minimal length"
   ]
  },
  {
   "cell_type": "code",
   "execution_count": 20,
   "id": "a1ac2a0f-31ef-40c3-a633-cf5aefc6dd44",
   "metadata": {},
   "outputs": [
    {
     "data": {
      "image/png": "[encoded data removed]",
      "text/plain": [
       "<Figure size 1600x400 with 4 Axes>"
      ]
     },
     "metadata": {},
     "output_type": "display_data"
    }
   ],
   "source": [
    "plot_cycles(nx.minimum_cycle_basis(FG))"
   ]
  },
  {
   "cell_type": "markdown",
   "id": "d4141f81-f050-4ec0-84e0-16d457bf479d",
   "metadata": {},
   "source": [
    "## (4) Get perimeters of small cycles and compute the final answer"
   ]
  },
  {
   "cell_type": "code",
   "execution_count": 21,
   "id": "2ca9e1f3-289c-43c0-9c66-520456cbfb40",
   "metadata": {},
   "outputs": [],
   "source": [
    "min_cycles=nx.minimum_cycle_basis(FG)"
   ]
  },
  {
   "cell_type": "markdown",
   "id": "50badc55-6935-4628-b389-f8e8833d4fb9",
   "metadata": {},
   "source": [
    "For convenience for the calculations that follow, repeat the last point at the end"
   ]
  },
  {
   "cell_type": "code",
   "execution_count": 22,
   "id": "86ae5abf-f09e-4a0a-aa00-b749d6eb407e",
   "metadata": {},
   "outputs": [],
   "source": [
    "for sublist in min_cycles:\n",
    "    sublist.append(sublist[0])"
   ]
  },
  {
   "cell_type": "code",
   "execution_count": 23,
   "id": "d05515cb-b085-4398-a867-54fc0be41141",
   "metadata": {},
   "outputs": [],
   "source": [
    "distance=lambda p1,p2: math.sqrt((p1[0]-p2[0])**2+(p1[1]-p2[1])**2)"
   ]
  },
  {
   "cell_type": "code",
   "execution_count": 24,
   "id": "f2ff1b84-842d-4fd3-b391-91532c5eb798",
   "metadata": {},
   "outputs": [],
   "source": [
    "def final_answer(cycles):\n",
    "    perimeters=[]\n",
    "    \n",
    "    for cycle in cycles:\n",
    "        perimeter=0\n",
    "        sides=len(cycle)-1\n",
    "        \n",
    "        for i in range(sides):\n",
    "            perimeter+=distance(cycle[i],cycle[i+1])\n",
    "\n",
    "        perimeters.append(perimeter)\n",
    "\n",
    "    return np.prod(perimeters)"
   ]
  },
  {
   "cell_type": "code",
   "execution_count": 25,
   "id": "d9227ad8-e12a-4b99-8259-76df8ff7917e",
   "metadata": {},
   "outputs": [
    {
     "data": {
      "text/plain": [
       "16.0"
      ]
     },
     "execution_count": 25,
     "metadata": {},
     "output_type": "execute_result"
    }
   ],
   "source": [
    "final_answer(min_cycles)"
   ]
  }
 ],
 "metadata": {
  "kernelspec": {
   "display_name": "Python 3 (ipykernel)",
   "language": "python",
   "name": "python3"
  },
  "language_info": {
   "codemirror_mode": {
    "name": "ipython",
    "version": 3
   },
   "file_extension": ".py",
   "mimetype": "text/x-python",
   "name": "python",
   "nbconvert_exporter": "python",
   "pygments_lexer": "ipython3",
   "version": "3.11.7"
  }
 },
 "nbformat": 4,
 "nbformat_minor": 5
}
