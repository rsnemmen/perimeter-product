{
 "cells": [
  {
   "cell_type": "markdown",
   "id": "407a3535-7639-4474-88c5-19018d78c550",
   "metadata": {},
   "source": [
    "Face-tracing algorithm\n",
    "=========================\n",
    "\n",
    "Problem: given a set of lines, identify all closed regions (subshapes)."
   ]
  },
  {
   "cell_type": "code",
   "execution_count": 1,
   "id": "abcdd76b-f653-47b4-9465-6dd2631a8c24",
   "metadata": {},
   "outputs": [],
   "source": [
    "%matplotlib inline\n",
    "import numpy as np\n",
    "import matplotlib.pyplot as plt"
   ]
  },
  {
   "cell_type": "markdown",
   "id": "186cdd4a-6030-4703-9b39-691e2fef87d0",
   "metadata": {},
   "source": [
    "Loads our helper module built for this exercise"
   ]
  },
  {
   "cell_type": "code",
   "execution_count": 2,
   "id": "30d69da2-9c2b-43ea-92f0-5e2d3c8f648f",
   "metadata": {},
   "outputs": [],
   "source": [
    "import hestus\n",
    "from importlib import reload"
   ]
  },
  {
   "cell_type": "code",
   "execution_count": 3,
   "id": "fae0cfa2-b742-4c83-b7ef-cbf76c22ae4f",
   "metadata": {},
   "outputs": [
    {
     "data": {
      "text/plain": [
       "<module 'hestus' from '/Users/nemmen/Library/CloudStorage/Dropbox/codes/jupyter/projects/hestus-problem/hestus.py'>"
      ]
     },
     "execution_count": 3,
     "metadata": {},
     "output_type": "execute_result"
    }
   ],
   "source": [
    "reload(hestus)"
   ]
  },
  {
   "cell_type": "code",
   "execution_count": 4,
   "id": "0cb77d79-9103-49ca-ad63-39978e364f5c",
   "metadata": {},
   "outputs": [],
   "source": [
    "import networkx as nx\n",
    "import math"
   ]
  },
  {
   "cell_type": "markdown",
   "id": "ebcef0fc-4a4c-4ddd-8470-a03a72b33ba7",
   "metadata": {},
   "source": [
    "## Trial shapes"
   ]
  },
  {
   "cell_type": "code",
   "execution_count": 5,
   "id": "e4d37208-b01e-4590-9bcd-743523cb06bc",
   "metadata": {},
   "outputs": [],
   "source": [
    "square = (\n",
    "    ((1, 1), (1, 2)),\n",
    "    ((1, 2), (2, 2)),\n",
    "    ((2, 2), (2, 1)),\n",
    "    ((2, 1), (1, 1)),\n",
    ")"
   ]
  },
  {
   "cell_type": "code",
   "execution_count": 6,
   "id": "ad8c32aa-ead6-4cf1-8f2d-f892da90dcac",
   "metadata": {},
   "outputs": [],
   "source": [
    "hourglass=( ((1, 1), (1, 2)),\n",
    "((1, 2), (2, 1)),\n",
    "((2, 1), (2, 2)),\n",
    "((2, 2), (1, 1)), )"
   ]
  },
  {
   "cell_type": "code",
   "execution_count": 7,
   "id": "fcde386d-60e7-47b2-b36a-03d94c2ce38d",
   "metadata": {},
   "outputs": [],
   "source": [
    "window= ( ((1, 1), (1, 2)),\n",
    "((1, 2), (2, 2)),\n",
    "((2, 2), (2, 1)),\n",
    "((2, 1), (1, 1)),\n",
    "((1.5, 1), (1.5, 2)),\n",
    "((1, 1.5), (2, 1.5)), )"
   ]
  },
  {
   "cell_type": "code",
   "execution_count": 8,
   "id": "35a272a5-1d0e-41b1-8f15-9dac4666effe",
   "metadata": {},
   "outputs": [],
   "source": [
    "mystery=( ((1, 1), (1, 2)),\n",
    "((1, 2), (1.8, 2)),\n",
    "((1.8, 2), (1.8, 1)),\n",
    "((1.8, 1), (1, 1)),\n",
    "((1.2, 1), (1.2, 2)),\n",
    "((1.6, 1), (1.6, 2)),\n",
    "((1, 1.5), (1.6, 1.8)),\n",
    "((1, 1.3), (1.8, 1.7)),\n",
    "((1.2, 1.2), (1.8, 1.5)), )"
   ]
  },
  {
   "cell_type": "code",
   "execution_count": 9,
   "id": "2727fd2f-5d62-4047-9b34-04334dc4fac7",
   "metadata": {},
   "outputs": [
    {
     "data": {
      "image/png": "[encoded data removed]",
      "text/plain": [
       "<Figure size 640x480 with 1 Axes>"
      ]
     },
     "metadata": {},
     "output_type": "display_data"
    }
   ],
   "source": [
    "hestus.plot(mystery)"
   ]
  },
  {
   "cell_type": "markdown",
   "id": "f920cfbe-4efc-4bea-bc41-88c337fa70dd",
   "metadata": {},
   "source": [
    "## Playing with graphs"
   ]
  },
  {
   "cell_type": "markdown",
   "id": "d446d107-0883-48e2-9431-7fae966579fc",
   "metadata": {},
   "source": [
    "create an undirected graph and load the edges"
   ]
  },
  {
   "cell_type": "code",
   "execution_count": 10,
   "id": "833dc69d-4741-482c-bc4f-6ea86cb0ead2",
   "metadata": {},
   "outputs": [],
   "source": [
    "G = nx.Graph()\n",
    "G.add_edges_from(mystery)"
   ]
  },
  {
   "cell_type": "markdown",
   "id": "d25a54c9-68dd-4f6a-a765-56532d6d03f4",
   "metadata": {},
   "source": [
    "some basic operations"
   ]
  },
  {
   "cell_type": "code",
   "execution_count": 11,
   "id": "386988f5-1d85-406b-b697-72d5e4f7e8e7",
   "metadata": {},
   "outputs": [
    {
     "name": "stdout",
     "output_type": "stream",
     "text": [
      "|V|=14, |E|=9\n"
     ]
    }
   ],
   "source": [
    "print(f\"|V|={G.number_of_nodes()}, |E|={G.number_of_edges()}\")"
   ]
  },
  {
   "cell_type": "code",
   "execution_count": 12,
   "id": "cd6ce826-7401-4ad2-8cf3-d0918ed3ee40",
   "metadata": {},
   "outputs": [
    {
     "name": "stdout",
     "output_type": "stream",
     "text": [
      "nodes: [(1, 1), (1, 2), (1.8, 2), (1.8, 1), (1.2, 1), (1.2, 2), (1.6, 1), (1.6, 2), (1, 1.5), (1.6, 1.8), (1, 1.3), (1.8, 1.7), (1.2, 1.2), (1.8, 1.5)]\n",
      "edges: [((1, 1), (1, 2)), ((1, 1), (1.8, 1)), ((1, 2), (1.8, 2)), ((1.8, 2), (1.8, 1)), ((1.2, 1), (1.2, 2)), ((1.6, 1), (1.6, 2)), ((1, 1.5), (1.6, 1.8)), ((1, 1.3), (1.8, 1.7)), ((1.2, 1.2), (1.8, 1.5))]\n"
     ]
    }
   ],
   "source": [
    "print(\"nodes:\", G.nodes())\n",
    "print(\"edges:\", G.edges())"
   ]
  },
  {
   "cell_type": "markdown",
   "id": "80b75f57-0bd2-412c-945e-faecab298aa3",
   "metadata": {},
   "source": [
    "### Basic operations on a node"
   ]
  },
  {
   "cell_type": "code",
   "execution_count": 13,
   "id": "cc2c4f73-672c-4e7f-b59e-1fec618c900e",
   "metadata": {},
   "outputs": [
    {
     "name": "stdout",
     "output_type": "stream",
     "text": [
      "degree of (1,1): 2\n"
     ]
    }
   ],
   "source": [
    "print(\"degree of (1,1):\", G.degree((1,1)))          "
   ]
  },
  {
   "cell_type": "markdown",
   "id": "464ecac7-e13e-44b6-88e6-26a601d469fd",
   "metadata": {},
   "source": [
    "Dict of neighbors of a node"
   ]
  },
  {
   "cell_type": "code",
   "execution_count": 14,
   "id": "bc862f01-9d56-458c-93e1-9c4094711a89",
   "metadata": {},
   "outputs": [
    {
     "data": {
      "text/plain": [
       "AtlasView({(1, 2): {}, (1.8, 1): {}})"
      ]
     },
     "execution_count": 14,
     "metadata": {},
     "output_type": "execute_result"
    }
   ],
   "source": [
    "G.adj[(1,1)]"
   ]
  },
  {
   "cell_type": "markdown",
   "id": "30aaaaa0-5e8b-4656-8559-e5ac0c824cf7",
   "metadata": {},
   "source": [
    "Edges connected to a given node"
   ]
  },
  {
   "cell_type": "code",
   "execution_count": 15,
   "id": "14b5e91d-64bb-4f38-9900-de97951469f1",
   "metadata": {},
   "outputs": [
    {
     "data": {
      "text/plain": [
       "EdgeDataView([((1, 1), (1, 2)), ((1, 1), (1.8, 1))])"
      ]
     },
     "execution_count": 15,
     "metadata": {},
     "output_type": "execute_result"
    }
   ],
   "source": [
    "G.edges((1,1))"
   ]
  },
  {
   "cell_type": "markdown",
   "id": "ce7871b8-c153-47a1-836a-522eb1f77e21",
   "metadata": {},
   "source": [
    "### Simple cycle detection"
   ]
  },
  {
   "cell_type": "code",
   "execution_count": 16,
   "id": "93e5a373-b6b5-4bff-9d3f-7a2d5a7941c8",
   "metadata": {},
   "outputs": [],
   "source": [
    "cycles=nx.cycle_basis(G)"
   ]
  },
  {
   "cell_type": "code",
   "execution_count": 17,
   "id": "e8e204b0-2688-4bb5-b9c8-8be357edb5d1",
   "metadata": {},
   "outputs": [
    {
     "name": "stdout",
     "output_type": "stream",
     "text": [
      "[[(1.8, 2), (1, 2), (1, 1), (1.8, 1)]]\n"
     ]
    }
   ],
   "source": [
    "print(cycles)"
   ]
  },
  {
   "cell_type": "code",
   "execution_count": 18,
   "id": "55e4f105-2959-41a6-92e2-d268a297a88d",
   "metadata": {},
   "outputs": [
    {
     "name": "stdout",
     "output_type": "stream",
     "text": [
      "contains cycle? True\n"
     ]
    }
   ],
   "source": [
    "print(\"contains cycle?\", bool(nx.cycle_basis(G)))"
   ]
  },
  {
   "cell_type": "markdown",
   "id": "78d7bb7c-c067-48d7-b460-4e48058c16bc",
   "metadata": {},
   "source": [
    "## Algorithm outline\n",
    "\n",
    "Our eyes immediately realize the intersections between lines and the geometrical \"subshapes\" they form, but the computer has no idea about them. We need to use geometry to teach the computer to identify these shapes. There are three basic steps.\n",
    "\n",
    "1. Find intersections between lines✅\n",
    "2. Establish new edges in addition to those of the original shape✅\n",
    "3. Identify closed regions✅\n",
    "\n",
    "Below I will break down steps 1 to 3."
   ]
  },
  {
   "cell_type": "markdown",
   "id": "82789ded-911b-4f6c-8944-ded11dc5690d",
   "metadata": {},
   "source": [
    "## (1) Find intersections"
   ]
  },
  {
   "cell_type": "markdown",
   "id": "99a7653f-614e-4c9a-9dfd-1cc39fb3143e",
   "metadata": {},
   "source": [
    "### Find intersecting point between two lines"
   ]
  },
  {
   "cell_type": "code",
   "execution_count": 19,
   "id": "2c48e650-c590-4c54-bcf9-a674363c432a",
   "metadata": {},
   "outputs": [],
   "source": [
    "def find_intersection(l1, l2):\n",
    "    \"\"\"\n",
    "    Return (xi, yi) where (xi, yi) is the intersection of the\n",
    "    infinite lines through p1-p2 and p3-p4.\n",
    "    Input: each point is a pair (x, y).\n",
    "    \"\"\"\n",
    "    (x1, y1), (x2, y2) = l1\n",
    "    (x3, y3), (x4, y4) = l2\n",
    "\n",
    "    denom = (x1 - x2)*(y3 - y4) - (y1 - y2)*(x3 - x4)\n",
    "    if denom == 0:            # parallel or coincident\n",
    "        return None, None\n",
    "\n",
    "    c1 = x1*y2 - y1*x2\n",
    "    c2 = x3*y4 - y3*x4\n",
    "\n",
    "    xi = (c1*(x3 - x4) - (x1 - x2)*c2) / denom\n",
    "    yi = (c1*(y3 - y4) - (y1 - y2)*c2) / denom\n",
    "\n",
    "    # parameters for the two segments\n",
    "    t = ((x3 - x1)*(y3 - y4) - (y3 - y1)*(x3 - x4)) / denom\n",
    "    u = ((x3 - x1)*(y1 - y2) - (y3 - y1)*(x1 - x2)) / denom\n",
    "\n",
    "    return (xi, yi)"
   ]
  },
  {
   "cell_type": "code",
   "execution_count": 20,
   "id": "27535eaa-885c-4f2c-a72e-f9bf8a412453",
   "metadata": {},
   "outputs": [
    {
     "data": {
      "text/plain": [
       "(None, None)"
      ]
     },
     "execution_count": 20,
     "metadata": {},
     "output_type": "execute_result"
    }
   ],
   "source": [
    "find_intersection(((1, 1), (1, 2)),((1.5, 1), (1.5, 2)))"
   ]
  },
  {
   "cell_type": "code",
   "execution_count": 21,
   "id": "6a34b8fd-3e8e-4c02-93d4-461db6f243b1",
   "metadata": {},
   "outputs": [
    {
     "data": {
      "text/plain": [
       "(1.0, 1.5)"
      ]
     },
     "execution_count": 21,
     "metadata": {},
     "output_type": "execute_result"
    }
   ],
   "source": [
    "find_intersection(((1, 1), (1, 2)),((1, 1.5), (2, 1.5)))"
   ]
  },
  {
   "cell_type": "markdown",
   "id": "3df9ccde-f07d-44f4-aac6-fb3019d911bd",
   "metadata": {},
   "source": [
    "### Find all intersections in graph"
   ]
  },
  {
   "cell_type": "code",
   "execution_count": 22,
   "id": "e9085a8d-6f02-4d14-b7cd-612170793fea",
   "metadata": {},
   "outputs": [],
   "source": [
    "intersections=set()\n",
    "\n",
    "for e in G.edges():\n",
    "    for f in G.edges():\n",
    "        # avoid the same vertex\n",
    "        if e!=f:\n",
    "            inter=find_intersection(e,f)\n",
    "            if None not in inter:\n",
    "                intersections.add(inter)"
   ]
  },
  {
   "cell_type": "code",
   "execution_count": 23,
   "id": "1f51b9a1-1394-4395-9e51-35df6c4e17d9",
   "metadata": {},
   "outputs": [
    {
     "data": {
      "text/plain": [
       "{(-1729382256910270.0, -864691128455134.0),\n",
       " (-6.938893903907227e-16, 1.0),\n",
       " (0.39999999999999936, 1.0),\n",
       " (0.7999999999999992, 1.0),\n",
       " (1.0, 1.0),\n",
       " (1.0, 1.1000000000000005),\n",
       " (1.0, 1.3000000000000003),\n",
       " (1.0, 1.5000000000000004),\n",
       " (1.0, 2.0),\n",
       " (1.2, 1.0),\n",
       " (1.2, 1.2000000000000006),\n",
       " (1.2, 1.4000000000000001),\n",
       " (1.2, 1.6000000000000005),\n",
       " (1.2, 2.0),\n",
       " (1.6, 1.4000000000000006),\n",
       " (1.6, 1.8000000000000005),\n",
       " (1.6000000000000003, 1.0),\n",
       " (1.6000000000000003, 1.6000000000000003),\n",
       " (1.6000000000000003, 2.0),\n",
       " (1.8, 1.0),\n",
       " (1.8, 1.7000000000000004),\n",
       " (1.8, 2.0),\n",
       " (1.8000000000000003, 1.5000000000000004),\n",
       " (1.8000000000000003, 1.9000000000000006),\n",
       " (1.9999999999999993, 2.0),\n",
       " (2.4, 2.0),\n",
       " (2.7999999999999994, 2.0),\n",
       " (1729382256910271.0, 864691128455136.0)}"
      ]
     },
     "execution_count": 23,
     "metadata": {},
     "output_type": "execute_result"
    }
   ],
   "source": [
    "intersections"
   ]
  },
  {
   "cell_type": "code",
   "execution_count": 24,
   "id": "50741c69-5a12-4e10-9a2b-9a4c0a311220",
   "metadata": {},
   "outputs": [
    {
     "data": {
      "text/plain": [
       "28"
      ]
     },
     "execution_count": 24,
     "metadata": {},
     "output_type": "execute_result"
    }
   ],
   "source": [
    "len(intersections)"
   ]
  },
  {
   "cell_type": "markdown",
   "id": "ee99f9ee-f653-4e26-93fc-d653f1cb19db",
   "metadata": {},
   "source": [
    "## (2) Establish new segments"
   ]
  },
  {
   "cell_type": "markdown",
   "id": "b462784f-a4e1-494d-8ba4-f3be11eee9db",
   "metadata": {},
   "source": [
    "Fully connected graph, with all possible connections between nodes"
   ]
  },
  {
   "cell_type": "code",
   "execution_count": 25,
   "id": "855514de-2124-4bb8-a6a8-e380cb96d5dd",
   "metadata": {},
   "outputs": [],
   "source": [
    "FG = nx.complete_graph(intersections)   # undirected by default"
   ]
  },
  {
   "cell_type": "code",
   "execution_count": 26,
   "id": "ea869932-90d4-4f33-9331-ebb4da36deb1",
   "metadata": {},
   "outputs": [
    {
     "data": {
      "text/plain": [
       "378"
      ]
     },
     "execution_count": 26,
     "metadata": {},
     "output_type": "execute_result"
    }
   ],
   "source": [
    "FG.number_of_edges()"
   ]
  },
  {
   "cell_type": "code",
   "execution_count": 27,
   "id": "4969b8ae-9412-48a6-aa28-518e388a81e5",
   "metadata": {},
   "outputs": [
    {
     "data": {
      "image/png": "[encoded data removed]",
      "text/plain": [
       "<Figure size 600x600 with 1 Axes>"
      ]
     },
     "metadata": {},
     "output_type": "display_data"
    }
   ],
   "source": [
    "hestus.plot_graph(FG)"
   ]
  },
  {
   "cell_type": "markdown",
   "id": "af8f9d40-95ae-48f1-96d9-93c14f555cf2",
   "metadata": {},
   "source": [
    "### Test parallel lines finder\n",
    "\n",
    "Discard those that are not parallel to pre-existing lines"
   ]
  },
  {
   "cell_type": "code",
   "execution_count": 150,
   "id": "ac0f9478-3ec8-4d35-9ed5-1b1a1a5dbc33",
   "metadata": {},
   "outputs": [
    {
     "data": {
      "text/plain": [
       "EdgeView([((1.0, 2.0), (1.5, 1.0)), ((1.0, 2.0), (2.0, 1.0)), ((1.0, 2.0), (2.0, 1.5)), ((1.0, 2.0), (1.5, 1.5)), ((1.0, 2.0), (1.0, 1.5)), ((1.0, 2.0), (1.0, 1.0)), ((1.0, 2.0), (2.0, 2.0)), ((1.0, 2.0), (1.5, 2.0)), ((1.5, 1.0), (2.0, 1.0)), ((1.5, 1.0), (2.0, 1.5)), ((1.5, 1.0), (1.5, 1.5)), ((1.5, 1.0), (1.0, 1.5)), ((1.5, 1.0), (1.0, 1.0)), ((1.5, 1.0), (2.0, 2.0)), ((1.5, 1.0), (1.5, 2.0)), ((2.0, 1.0), (2.0, 1.5)), ((2.0, 1.0), (1.5, 1.5)), ((2.0, 1.0), (1.0, 1.5)), ((2.0, 1.0), (1.0, 1.0)), ((2.0, 1.0), (2.0, 2.0)), ((2.0, 1.0), (1.5, 2.0)), ((2.0, 1.5), (1.5, 1.5)), ((2.0, 1.5), (1.0, 1.5)), ((2.0, 1.5), (1.0, 1.0)), ((2.0, 1.5), (2.0, 2.0)), ((2.0, 1.5), (1.5, 2.0)), ((1.5, 1.5), (1.0, 1.5)), ((1.5, 1.5), (1.0, 1.0)), ((1.5, 1.5), (2.0, 2.0)), ((1.5, 1.5), (1.5, 2.0)), ((1.0, 1.5), (1.0, 1.0)), ((1.0, 1.5), (2.0, 2.0)), ((1.0, 1.5), (1.5, 2.0)), ((1.0, 1.0), (2.0, 2.0)), ((1.0, 1.0), (1.5, 2.0)), ((2.0, 2.0), (1.5, 2.0))])"
      ]
     },
     "execution_count": 150,
     "metadata": {},
     "output_type": "execute_result"
    }
   ],
   "source": [
    "FG.edges()"
   ]
  },
  {
   "cell_type": "code",
   "execution_count": 151,
   "id": "80b71ac3-7f1b-4c59-bb48-433e7e4386ed",
   "metadata": {},
   "outputs": [],
   "source": [
    "from math import hypot\n",
    "\n",
    "def are_parallel(l1, l2, tol=1e-9):\n",
    "    \"\"\"\n",
    "    Return True if the (infinite) lines defined by the two point pairs are parallel.\n",
    "    \"\"\"\n",
    "    (x1, y1), (x2, y2) = l1\n",
    "    (x3, y3), (x4, y4) = l2\n",
    "\n",
    "    # Direction vectors\n",
    "    v1x, v1y = x2 - x1, y2 - y1\n",
    "    v2x, v2y = x4 - x3, y4 - y3\n",
    "\n",
    "    # Guard against zero-length lines\n",
    "    if v1x == v1y == 0 or v2x == v2y == 0:\n",
    "        raise ValueError(\"At least one line has zero length (two identical end-points).\")\n",
    "\n",
    "    # 2-D cross product\n",
    "    cross = v1x * v2y - v1y * v2x\n",
    "\n",
    "    # Scale tolerance with the largest direction-vector magnitude so that\n",
    "    # the test is invariant to coordinate scale.\n",
    "    scale = max(hypot(v1x, v1y), hypot(v2x, v2y))\n",
    "    return abs(cross) <= tol * scale"
   ]
  },
  {
   "cell_type": "code",
   "execution_count": 152,
   "id": "685b408b-38ad-49d1-91c2-f32309bf0dc5",
   "metadata": {},
   "outputs": [
    {
     "data": {
      "text/plain": [
       "True"
      ]
     },
     "execution_count": 152,
     "metadata": {},
     "output_type": "execute_result"
    }
   ],
   "source": [
    "are_parallel(((1, 1), (1, 2)),((1.5, 1), (1.5, 2)))"
   ]
  },
  {
   "cell_type": "code",
   "execution_count": 153,
   "id": "ed0e90c8-97ca-4bbd-a30f-f24c819e642e",
   "metadata": {},
   "outputs": [
    {
     "data": {
      "text/plain": [
       "False"
      ]
     },
     "execution_count": 153,
     "metadata": {},
     "output_type": "execute_result"
    }
   ],
   "source": [
    "are_parallel(((1, 1), (1, 2)),((1, 1.5), (2, 1.5)))"
   ]
  },
  {
   "cell_type": "markdown",
   "id": "c9902dd2-9738-4bb7-814c-2f160e000b25",
   "metadata": {},
   "source": [
    "### Discard all lines which are not parallel to any existing ones"
   ]
  },
  {
   "cell_type": "markdown",
   "id": "79d6ecae-5b91-471c-91ea-02069e20bb47",
   "metadata": {},
   "source": [
    "Build a list of edges to delete"
   ]
  },
  {
   "cell_type": "code",
   "execution_count": 154,
   "id": "e3aa6ae5-8189-42c0-a972-acd087eb6330",
   "metadata": {},
   "outputs": [],
   "source": [
    "# set with connections between nodes\n",
    "to_delete=set()\n",
    "\n",
    "for fg in FG.edges():\n",
    "    # if the fg line under consideration is parallel to any pre-existing line, keep it with survive=True\n",
    "    survive=False\n",
    "    for g in G.edges():\n",
    "        if fg!=g:\n",
    "            if are_parallel(g, fg):\n",
    "                survive=True\n",
    "\n",
    "    if not survive:\n",
    "        to_delete.add(fg)"
   ]
  },
  {
   "cell_type": "markdown",
   "id": "3d2ee7ad-185c-4c9e-b555-9bc3088ced0c",
   "metadata": {},
   "source": [
    "Edges to be deleted"
   ]
  },
  {
   "cell_type": "code",
   "execution_count": 155,
   "id": "8cc19415-5606-4664-8d70-97a1eb214f63",
   "metadata": {},
   "outputs": [
    {
     "data": {
      "image/png": "[encoded data removed]",
      "text/plain": [
       "<Figure size 640x480 with 1 Axes>"
      ]
     },
     "metadata": {},
     "output_type": "display_data"
    }
   ],
   "source": [
    "hestus.plot(to_delete)"
   ]
  },
  {
   "cell_type": "markdown",
   "id": "333b3597-505e-45b3-aa0a-896e2a1c50cf",
   "metadata": {},
   "source": [
    "Delete spurious edges"
   ]
  },
  {
   "cell_type": "code",
   "execution_count": 156,
   "id": "fd48c1a0-53bc-46b4-b68f-4338c346174e",
   "metadata": {},
   "outputs": [],
   "source": [
    "FG.remove_edges_from(to_delete)"
   ]
  },
  {
   "cell_type": "markdown",
   "id": "91002a87-e98b-4edb-bef2-f5718396ae35",
   "metadata": {},
   "source": [
    "New graph"
   ]
  },
  {
   "cell_type": "code",
   "execution_count": 157,
   "id": "5c3903bb-f866-4bbf-a184-0e23d989db87",
   "metadata": {},
   "outputs": [
    {
     "data": {
      "image/png": "[encoded data removed]",
      "text/plain": [
       "<Figure size 600x600 with 1 Axes>"
      ]
     },
     "metadata": {},
     "output_type": "display_data"
    }
   ],
   "source": [
    "hestus.plot_graph(FG)"
   ]
  },
  {
   "cell_type": "markdown",
   "id": "2c54f37f-409d-46d6-b924-13cdf6fc8fba",
   "metadata": {},
   "source": [
    "### Issue: some edges cross more than one node"
   ]
  },
  {
   "cell_type": "code",
   "execution_count": 171,
   "id": "7b9ca7d0-717e-482e-8737-413dd43704a4",
   "metadata": {},
   "outputs": [
    {
     "data": {
      "image/png": "[encoded data removed]",
      "text/plain": [
       "<Figure size 2000x1600 with 20 Axes>"
      ]
     },
     "metadata": {},
     "output_type": "display_data"
    }
   ],
   "source": [
    "edges = list(FG.edges())\n",
    "n      = len(edges)\n",
    "cols   = 5                       # adjust to taste\n",
    "rows   = -(-n // cols)           # ceiling division\n",
    "pos = {p: p for p in FG.nodes()}          # node → (x, y)\n",
    "\n",
    "fig, axes = plt.subplots(rows, cols, figsize=(4*cols, 4*rows))\n",
    "\n",
    "for ax, (u, v) in zip(axes.ravel(), edges):\n",
    "    nx.draw_networkx_edges(FG, pos, ax=ax, width=1, edge_color=\"#cccccc\", alpha=0.5)\n",
    "    nx.draw_networkx_nodes(FG, pos, ax=ax, node_size=30, node_color=\"#dddddd\", alpha=0.5)\n",
    "    nx.draw_networkx_edges(FG, pos, ax=ax, edgelist=[(u, v)], width=3, edge_color=\"tab:blue\")\n",
    "    nx.draw_networkx_nodes(FG, pos, ax=ax, nodelist=[u, v], node_size=80, node_color=\"tab:blue\")\n",
    "    ax.set_aspect(\"equal\"); ax.set_axis_off()\n",
    "\n",
    "# turn off any leftover empty axes\n",
    "for ax in axes.ravel()[n:]:\n",
    "    ax.set_axis_off()\n",
    "\n",
    "plt.tight_layout()\n",
    "plt.show()"
   ]
  },
  {
   "cell_type": "markdown",
   "id": "f79e1062-3274-4bba-8c01-4516b9119dc3",
   "metadata": {},
   "source": [
    "Almost there. I need now to remove edges that cross over more than two nodes."
   ]
  },
  {
   "cell_type": "code",
   "execution_count": 192,
   "id": "110dd01a-e6e2-460b-a598-fde6e487e15e",
   "metadata": {},
   "outputs": [],
   "source": [
    "def is_on_segment(p, seg, *, eps=1e-9):\n",
    "    \"\"\"\n",
    "    True if point `p` lies on the **closed** segment `seg`.\n",
    "    Parameters\n",
    "    ----------\n",
    "    p : tuple \n",
    "    seg : ((x1, y1), (x2, y2)) tuple   – segment endpoints\n",
    "    eps     : tolerance for floating-point colinearity test\n",
    "    \"\"\"\n",
    "    px, py = p\n",
    "    (ax, ay), (bx, by) = seg\n",
    "    \n",
    "    # 1. Colinearity test   |(b-a) x (p-a)| == 0\n",
    "    cross = (bx - ax) * (py - ay) - (by - ay) * (px - ax)\n",
    "    if abs(cross) > eps:\n",
    "        return False\n",
    "\n",
    "    # 2. Projection test  0 ≤ (p-a)·(b-a) ≤ |b-a|²\n",
    "    dot = (px - ax) * (bx - ax) + (py - ay) * (by - ay)\n",
    "    if dot < 0:\n",
    "        return False\n",
    "\n",
    "    squared_len = (bx - ax) ** 2 + (by - ay) ** 2\n",
    "    if dot > squared_len:\n",
    "        return False\n",
    "\n",
    "    return True"
   ]
  },
  {
   "cell_type": "code",
   "execution_count": 173,
   "id": "63119901-5008-408b-8d99-9cd6620868ea",
   "metadata": {},
   "outputs": [
    {
     "data": {
      "text/plain": [
       "EdgeView([((1.0, 2.0), (1.0, 1.5)), ((1.0, 2.0), (1.0, 1.0)), ((1.0, 2.0), (2.0, 2.0)), ((1.0, 2.0), (1.5, 2.0)), ((1.5, 1.0), (2.0, 1.0)), ((1.5, 1.0), (1.5, 1.5)), ((1.5, 1.0), (1.0, 1.0)), ((1.5, 1.0), (1.5, 2.0)), ((2.0, 1.0), (2.0, 1.5)), ((2.0, 1.0), (1.0, 1.0)), ((2.0, 1.0), (2.0, 2.0)), ((2.0, 1.5), (1.5, 1.5)), ((2.0, 1.5), (1.0, 1.5)), ((2.0, 1.5), (2.0, 2.0)), ((1.5, 1.5), (1.0, 1.5)), ((1.5, 1.5), (1.5, 2.0)), ((1.0, 1.5), (1.0, 1.0)), ((2.0, 2.0), (1.5, 2.0))])"
      ]
     },
     "execution_count": 173,
     "metadata": {},
     "output_type": "execute_result"
    }
   ],
   "source": [
    "FG.edges()"
   ]
  },
  {
   "cell_type": "code",
   "execution_count": 193,
   "id": "f51c7fc3-34be-4d7f-be55-eac3a2a0eecc",
   "metadata": {},
   "outputs": [
    {
     "data": {
      "text/plain": [
       "True"
      ]
     },
     "execution_count": 193,
     "metadata": {},
     "output_type": "execute_result"
    }
   ],
   "source": [
    "is_on_segment((1.5,2), ((1.0, 2.0), (2.0,2.0)))"
   ]
  },
  {
   "cell_type": "markdown",
   "id": "a11933f3-f01a-4bed-a43d-19d0f9e6c970",
   "metadata": {},
   "source": [
    "Keep only edges that cross only two nodes"
   ]
  },
  {
   "cell_type": "markdown",
   "id": "a85400ee-f57d-408c-b7de-0f7d5d3fa641",
   "metadata": {},
   "source": [
    "Build a list of edges to delete"
   ]
  },
  {
   "cell_type": "code",
   "execution_count": 255,
   "id": "d6f8759f-9abf-445f-9bac-6cd38da81380",
   "metadata": {},
   "outputs": [],
   "source": [
    "# set with connections between nodes\n",
    "to_delete=set()\n",
    "\n",
    "for edge in FG.edges():\n",
    "    # if the edge under consideration crosses more than two nodes, discard it \n",
    "    survive=True\n",
    "    for node in FG.nodes():\n",
    "        if node!=edge[0] and node!=edge[1]:\n",
    "            if is_on_segment(node,edge):\n",
    "                survive=False             \n",
    "\n",
    "    if not survive:\n",
    "        to_delete.add(edge)"
   ]
  },
  {
   "cell_type": "code",
   "execution_count": 197,
   "id": "0e3ad095-b706-4337-94c9-2eae7266fa80",
   "metadata": {},
   "outputs": [
    {
     "data": {
      "image/png": "[encoded data removed]",
      "text/plain": [
       "<Figure size 2000x800 with 10 Axes>"
      ]
     },
     "metadata": {},
     "output_type": "display_data"
    }
   ],
   "source": [
    "edges = list(to_delete)\n",
    "n      = len(edges)\n",
    "cols   = 5                       # adjust to taste\n",
    "rows   = -(-n // cols)           # ceiling division\n",
    "\n",
    "fig, axes = plt.subplots(rows, cols, figsize=(4*cols, 4*rows))\n",
    "\n",
    "for ax, (u, v) in zip(axes.ravel(), edges):\n",
    "    nx.draw_networkx_edges(FG, pos, ax=ax, width=1, edge_color=\"#cccccc\", alpha=0.5)\n",
    "    nx.draw_networkx_nodes(FG, pos, ax=ax, node_size=30, node_color=\"#dddddd\", alpha=0.5)\n",
    "    nx.draw_networkx_edges(FG, pos, ax=ax, edgelist=[(u, v)], width=3, edge_color=\"tab:blue\")\n",
    "    nx.draw_networkx_nodes(FG, pos, ax=ax, nodelist=[u, v], node_size=80, node_color=\"tab:blue\")\n",
    "    ax.set_aspect(\"equal\"); ax.set_axis_off()\n",
    "\n",
    "# turn off any leftover empty axes\n",
    "for ax in axes.ravel()[n:]:\n",
    "    ax.set_axis_off()\n",
    "\n",
    "plt.tight_layout()\n",
    "plt.show()"
   ]
  },
  {
   "cell_type": "markdown",
   "id": "deb79d33-73b9-4009-805e-bccdd3a9be36",
   "metadata": {},
   "source": [
    "Delete spurious edges"
   ]
  },
  {
   "cell_type": "code",
   "execution_count": 198,
   "id": "069a5697-3742-4123-bba3-eb6c93f97ead",
   "metadata": {},
   "outputs": [],
   "source": [
    "FG.remove_edges_from(to_delete)"
   ]
  },
  {
   "cell_type": "markdown",
   "id": "237b48fe-95a6-4318-bd34-51d651e71838",
   "metadata": {},
   "source": [
    "What remains"
   ]
  },
  {
   "cell_type": "code",
   "execution_count": 199,
   "id": "61cf4372-f94e-45ba-8b0d-b9d409501550",
   "metadata": {},
   "outputs": [
    {
     "data": {
      "image/png": "[encoded data removed]",
      "text/plain": [
       "<Figure size 2000x1200 with 15 Axes>"
      ]
     },
     "metadata": {},
     "output_type": "display_data"
    }
   ],
   "source": [
    "edges = list(FG.edges())\n",
    "n      = len(edges)\n",
    "cols   = 5                       # adjust to taste\n",
    "rows   = -(-n // cols)           # ceiling division\n",
    "\n",
    "fig, axes = plt.subplots(rows, cols, figsize=(4*cols, 4*rows))\n",
    "\n",
    "for ax, (u, v) in zip(axes.ravel(), edges):\n",
    "    nx.draw_networkx_edges(FG, pos, ax=ax, width=1, edge_color=\"#cccccc\", alpha=0.5)\n",
    "    nx.draw_networkx_nodes(FG, pos, ax=ax, node_size=30, node_color=\"#dddddd\", alpha=0.5)\n",
    "    nx.draw_networkx_edges(FG, pos, ax=ax, edgelist=[(u, v)], width=3, edge_color=\"tab:blue\")\n",
    "    nx.draw_networkx_nodes(FG, pos, ax=ax, nodelist=[u, v], node_size=80, node_color=\"tab:blue\")\n",
    "    ax.set_aspect(\"equal\"); ax.set_axis_off()\n",
    "\n",
    "# turn off any leftover empty axes\n",
    "for ax in axes.ravel()[n:]:\n",
    "    ax.set_axis_off()\n",
    "\n",
    "plt.tight_layout()\n",
    "plt.show()"
   ]
  },
  {
   "cell_type": "code",
   "execution_count": 200,
   "id": "5ada0e67-50fb-4133-bb3f-80884b5da0fb",
   "metadata": {},
   "outputs": [
    {
     "data": {
      "image/png": "[encoded data removed]",
      "text/plain": [
       "<Figure size 600x600 with 1 Axes>"
      ]
     },
     "metadata": {},
     "output_type": "display_data"
    }
   ],
   "source": [
    "hestus.plot_graph(FG)"
   ]
  },
  {
   "cell_type": "markdown",
   "id": "a7236aad-0bee-4513-86a5-e2ddcbcc54e1",
   "metadata": {},
   "source": [
    "## (3) Identify closed regions"
   ]
  },
  {
   "cell_type": "markdown",
   "id": "ecfbb197-5c04-436a-b224-4374f8ee9611",
   "metadata": {},
   "source": [
    "Plots identified cycles"
   ]
  },
  {
   "cell_type": "code",
   "execution_count": 209,
   "id": "2151bdeb-c965-400d-917c-1730729bd224",
   "metadata": {},
   "outputs": [],
   "source": [
    "def plot_cycles(cycles, cols=4):\n",
    "    n = len(cycles)\n",
    "    rows = -(-n // cols)           # ceiling division\n",
    "    fig, axes = plt.subplots(rows, cols, figsize=(4*cols, 4*rows))\n",
    "\n",
    "    for ax, cycle in zip(axes.ravel(), cycles):\n",
    "        cycle_edges = list(zip(cycle, cycle[1:] + cycle[:1]))\n",
    "        nx.draw_networkx_edges(FG, pos, ax=ax, width=1, edge_color=\"#cccccc\", alpha=0.6)\n",
    "        nx.draw_networkx_nodes(FG, pos, ax=ax, node_size=30, node_color=\"#dddddd\", alpha=0.6)\n",
    "        nx.draw_networkx_edges(FG, pos, ax=ax, edgelist=cycle_edges, width=3, edge_color=\"tab:red\")\n",
    "        nx.draw_networkx_nodes(FG, pos, ax=ax, nodelist=cycle, node_size=80, node_color=\"tab:red\")\n",
    "        ax.set_aspect(\"equal\"); ax.set_axis_off()\n",
    "\n",
    "    plt.tight_layout()\n",
    "    plt.show()"
   ]
  },
  {
   "cell_type": "code",
   "execution_count": 212,
   "id": "5937c45c-9bb0-4432-99f6-bb311316358c",
   "metadata": {},
   "outputs": [
    {
     "data": {
      "text/plain": [
       "12"
      ]
     },
     "execution_count": 212,
     "metadata": {},
     "output_type": "execute_result"
    }
   ],
   "source": [
    "len(FG.edges())"
   ]
  },
  {
   "cell_type": "markdown",
   "id": "418050b3-45a1-4793-8983-4d7d07588533",
   "metadata": {},
   "source": [
    "Default algorithm sucks 🤔"
   ]
  },
  {
   "cell_type": "code",
   "execution_count": 215,
   "id": "064ed8ca-2733-4309-a916-7ead26a419e8",
   "metadata": {},
   "outputs": [
    {
     "data": {
      "image/png": "[encoded data removed]",
      "text/plain": [
       "<Figure size 1600x400 with 4 Axes>"
      ]
     },
     "metadata": {},
     "output_type": "display_data"
    }
   ],
   "source": [
    "plot_cycles(nx.cycle_basis(FG))"
   ]
  },
  {
   "cell_type": "markdown",
   "id": "418a44f5-3d93-4125-9430-3ce29728040d",
   "metadata": {},
   "source": [
    "Alternative (niiiice! 😁): computes cycles of minimal length"
   ]
  },
  {
   "cell_type": "code",
   "execution_count": 216,
   "id": "a1ac2a0f-31ef-40c3-a633-cf5aefc6dd44",
   "metadata": {},
   "outputs": [
    {
     "data": {
      "image/png": "[encoded data removed]",
      "text/plain": [
       "<Figure size 1600x400 with 4 Axes>"
      ]
     },
     "metadata": {},
     "output_type": "display_data"
    }
   ],
   "source": [
    "plot_cycles(nx.minimum_cycle_basis(FG))"
   ]
  },
  {
   "cell_type": "markdown",
   "id": "d4141f81-f050-4ec0-84e0-16d457bf479d",
   "metadata": {},
   "source": [
    "## (4) Get perimeters of small cycles and compute the final answer"
   ]
  },
  {
   "cell_type": "code",
   "execution_count": 217,
   "id": "2ca9e1f3-289c-43c0-9c66-520456cbfb40",
   "metadata": {},
   "outputs": [],
   "source": [
    "min_cycles=nx.minimum_cycle_basis(FG)"
   ]
  },
  {
   "cell_type": "code",
   "execution_count": 220,
   "id": "e7cde5e1-b2b4-4f6e-bbd3-a677a05c2423",
   "metadata": {},
   "outputs": [
    {
     "data": {
      "text/plain": [
       "[[(2.0, 2.0), (1.5, 2.0), (1.5, 1.5), (2.0, 1.5)],\n",
       " [(1.0, 1.0), (1.0, 1.5), (1.5, 1.5), (1.5, 1.0)],\n",
       " [(1.5, 2.0), (1.5, 1.5), (1.0, 1.5), (1.0, 2.0)],\n",
       " [(1.5, 1.5), (2.0, 1.5), (2.0, 1.0), (1.5, 1.0)]]"
      ]
     },
     "execution_count": 220,
     "metadata": {},
     "output_type": "execute_result"
    }
   ],
   "source": [
    "min_cycles"
   ]
  },
  {
   "cell_type": "markdown",
   "id": "50badc55-6935-4628-b389-f8e8833d4fb9",
   "metadata": {},
   "source": [
    "For convenience for the calculations that follow, repeat the last point at the end"
   ]
  },
  {
   "cell_type": "code",
   "execution_count": 230,
   "id": "86ae5abf-f09e-4a0a-aa00-b749d6eb407e",
   "metadata": {},
   "outputs": [
    {
     "data": {
      "text/plain": [
       "[[(2.0, 2.0), (1.5, 2.0), (1.5, 1.5), (2.0, 1.5), (2.0, 2.0)],\n",
       " [(1.0, 1.0), (1.0, 1.5), (1.5, 1.5), (1.5, 1.0), (1.0, 1.0)],\n",
       " [(1.5, 2.0), (1.5, 1.5), (1.0, 1.5), (1.0, 2.0), (1.5, 2.0)],\n",
       " [(1.5, 1.5), (2.0, 1.5), (2.0, 1.0), (1.5, 1.0), (1.5, 1.5)]]"
      ]
     },
     "execution_count": 230,
     "metadata": {},
     "output_type": "execute_result"
    }
   ],
   "source": [
    "for sublist in min_cycles:\n",
    "    sublist.append(sublist[0])\n",
    "\n",
    "min_cycles"
   ]
  },
  {
   "cell_type": "code",
   "execution_count": 252,
   "id": "d05515cb-b085-4398-a867-54fc0be41141",
   "metadata": {},
   "outputs": [],
   "source": [
    "distance=lambda p1,p2: math.sqrt((p1[0]-p2[0])**2+(p1[1]-p2[1])**2)"
   ]
  },
  {
   "cell_type": "code",
   "execution_count": 253,
   "id": "f2ff1b84-842d-4fd3-b391-91532c5eb798",
   "metadata": {},
   "outputs": [],
   "source": [
    "def final_answer(cycles):\n",
    "    perimeters=[]\n",
    "    \n",
    "    for cycle in cycles:\n",
    "        perimeter=0\n",
    "        sides=len(cycle)-1\n",
    "        \n",
    "        for i in range(sides):\n",
    "            perimeter+=distance(cycle[i],cycle[i+1])\n",
    "\n",
    "        perimeters.append(perimeter)\n",
    "\n",
    "    return np.prod(perimeters)"
   ]
  },
  {
   "cell_type": "code",
   "execution_count": 254,
   "id": "d9227ad8-e12a-4b99-8259-76df8ff7917e",
   "metadata": {},
   "outputs": [
    {
     "data": {
      "text/plain": [
       "16.0"
      ]
     },
     "execution_count": 254,
     "metadata": {},
     "output_type": "execute_result"
    }
   ],
   "source": [
    "final_answer(min_cycles)"
   ]
  },
  {
   "cell_type": "code",
   "execution_count": null,
   "id": "62a16e26-c15e-46b8-9377-81701f150ce4",
   "metadata": {},
   "outputs": [],
   "source": []
  },
  {
   "cell_type": "code",
   "execution_count": null,
   "id": "50b65f02-f455-44d4-9d9f-a4d287b3c976",
   "metadata": {},
   "outputs": [],
   "source": []
  }
 ],
 "metadata": {
  "kernelspec": {
   "display_name": "Python 3 (ipykernel)",
   "language": "python",
   "name": "python3"
  },
  "language_info": {
   "codemirror_mode": {
    "name": "ipython",
    "version": 3
   },
   "file_extension": ".py",
   "mimetype": "text/x-python",
   "name": "python",
   "nbconvert_exporter": "python",
   "pygments_lexer": "ipython3",
   "version": "3.11.7"
  }
 },
 "nbformat": 4,
 "nbformat_minor": 5
}
